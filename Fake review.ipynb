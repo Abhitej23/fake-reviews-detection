{
 "cells": [
  {
   "cell_type": "code",
   "execution_count": 10,
   "id": "1d4e0551-606a-4395-a457-2c78b8182c5e",
   "metadata": {},
   "outputs": [],
   "source": [
    "import pandas as pd\n",
    "import numpy as np\n",
    "np.int=int\n",
    "np.object=object\n",
    "np.bool=bool\n",
    "from sklearn.model_selection import train_test_split\n",
    "from sklearn.preprocessing import LabelEncoder\n",
    "from tensorflow.keras.preprocessing.text import Tokenizer\n",
    "from tensorflow.keras.preprocessing.sequence import pad_sequences\n",
    "from tensorflow.keras.models import Sequential,load_model\n",
    "from tensorflow.keras.layers import Embedding, Conv1D, MaxPooling1D, Bidirectional, LSTM, Dense, Dropout\n",
    "import tensorflow as tf\n",
    "import re"
   ]
  },
  {
   "cell_type": "code",
   "execution_count": 14,
   "id": "8cfc34f0-25bf-4653-8492-c1e3ff778e6f",
   "metadata": {},
   "outputs": [],
   "source": [
    "data = pd.read_csv(r\"C:\\Users\\monis\\Downloads\\Preprocessed Fake Reviews Detection Dataset.csv\")"
   ]
  },
  {
   "cell_type": "code",
   "execution_count": 15,
   "id": "d7f257ab-f83f-4499-be2e-2b26ed9757c6",
   "metadata": {},
   "outputs": [],
   "source": [
    "texts = data['text_'].astype(str)\n",
    "labels = data['label']\n"
   ]
  },
  {
   "cell_type": "code",
   "execution_count": 16,
   "id": "b5102ead-ea06-4abf-8a12-05e4672f75ca",
   "metadata": {},
   "outputs": [],
   "source": [
    "label_encoder = LabelEncoder()\n",
    "encoded_labels = label_encoder.fit_transform(labels)"
   ]
  },
  {
   "cell_type": "code",
   "execution_count": 17,
   "id": "f4b5c2ad-b643-4d85-a272-ad936e3fdf2a",
   "metadata": {},
   "outputs": [],
   "source": [
    "tokenizer = Tokenizer(num_words=10000)  \n",
    "tokenizer.fit_on_texts(texts)\n",
    "sequences = tokenizer.texts_to_sequences(texts)"
   ]
  },
  {
   "cell_type": "code",
   "execution_count": 42,
   "id": "a339765e-b77c-4638-93c4-a978d779d9c8",
   "metadata": {},
   "outputs": [],
   "source": [
    "max_sequence_length = 200  #\n",
    "padded_sequences = pad_sequences(sequences, maxlen=max_sequence_length)"
   ]
  },
  {
   "cell_type": "code",
   "execution_count": 43,
   "id": "6a4473fb-29df-416f-9f9a-ba19e4c989fd",
   "metadata": {},
   "outputs": [],
   "source": [
    "X_train, X_test, y_train, y_test = train_test_split(padded_sequences, encoded_labels, test_size=0.2, random_state=42)"
   ]
  },
  {
   "cell_type": "code",
   "execution_count": 137,
   "id": "a7ff56b8-1285-4914-802a-4905fd1b9500",
   "metadata": {},
   "outputs": [
    {
     "data": {
      "text/plain": [
       "array([[   0,    0,    0, ...,   16,   82,  294],\n",
       "       [   0,    0,    0, ...,    1,  131,  392],\n",
       "       [   0,    0,    0, ...,  375,    9,  363],\n",
       "       ...,\n",
       "       [   0,    0,    0, ..., 4484, 1666,  595],\n",
       "       [   0,    0,    0, ...,  491,    3,  260],\n",
       "       [   0,    0,    0, ...,   35,  356,  701]])"
      ]
     },
     "execution_count": 137,
     "metadata": {},
     "output_type": "execute_result"
    }
   ],
   "source": [
    "X_train"
   ]
  },
  {
   "cell_type": "code",
   "execution_count": 49,
   "id": "8989644e-d10f-44fc-9d4c-4a9f0ea95ffd",
   "metadata": {},
   "outputs": [
    {
     "data": {
      "text/plain": [
       "0"
      ]
     },
     "execution_count": 49,
     "metadata": {},
     "output_type": "execute_result"
    }
   ],
   "source": [
    "encoded_labels[5]"
   ]
  },
  {
   "cell_type": "code",
   "execution_count": 95,
   "id": "f114427c-d5ab-4026-bd9f-9a91e1b044d6",
   "metadata": {},
   "outputs": [],
   "source": [
    "class StopOnAccuracy(tf.keras.callbacks.Callback):\n",
    "    def __init__(self, accuracy_threshold=0.99):\n",
    "        super(StopOnAccuracy, self).__init__()\n",
    "        self.accuracy_threshold = accuracy_threshold\n",
    "\n",
    "    def on_epoch_end(self, epoch, logs=None):\n",
    "        # Check the training accuracy\n",
    "        train_accuracy = logs.get('accuracy')\n",
    "        if train_accuracy and train_accuracy >= self.accuracy_threshold:\n",
    "            print(f\"\\nStopping training as training accuracy reached {train_accuracy:.2f}\")\n",
    "            self.model.stop_training = True\n",
    "stop_on_accuracy = StopOnAccuracy(accuracy_threshold=0.99)"
   ]
  },
  {
   "cell_type": "code",
   "execution_count": 85,
   "id": "e521afa9-fd1c-4a19-adb0-d097600527cf",
   "metadata": {},
   "outputs": [],
   "source": [
    "model = Sequential()\n",
    "\n",
    "model.add(Embedding(input_dim=10000, output_dim=128, input_length=max_sequence_length))\n",
    "\n",
    "model.add(Conv1D(filters=128, kernel_size=5, activation='relu'))\n",
    "model.add(MaxPooling1D(pool_size=2))\n",
    "\n",
    "\n",
    "model.add(Dense(64, activation='relu'))\n",
    "model.add(Dropout(0.5))\n",
    "\n",
    "model.add(Dense(1, activation='sigmoid'))\n",
    "\n",
    "model.compile(optimizer='adam', loss='binary_crossentropy', metrics=['accuracy'])\n",
    "\n"
   ]
  },
  {
   "cell_type": "code",
   "execution_count": 96,
   "id": "b45897d1-0a40-4f51-a695-17758adfee9a",
   "metadata": {},
   "outputs": [],
   "source": [
    "from tensorflow.keras.layers import Input, Embedding, Conv1D, MaxPooling1D, Dense, Dropout\n",
    "from tensorflow.keras.models import Model\n",
    "\n",
    "# Define the input layer\n",
    "inputs = Input(shape=(max_sequence_length,))  # Assuming max_sequence_length is defined\n",
    "\n",
    "# Add the embedding layer\n",
    "x = Embedding(input_dim=10000, output_dim=128, input_length=max_sequence_length)(inputs)\n",
    "\n",
    "# Add the Conv1D layer\n",
    "x = Conv1D(filters=128, kernel_size=5, activation='relu')(x)\n",
    "\n",
    "# Add the MaxPooling1D layer\n",
    "x = MaxPooling1D(pool_size=2)(x)\n",
    "\n",
    "# Add the Dense and Dropout layers\n",
    "x = Dense(64, activation='relu')(x)\n",
    "x = Dropout(0.5)(x)\n",
    "\n",
    "# Add the output layer\n",
    "outputs = Dense(1, activation='sigmoid')(x)\n",
    "\n",
    "# Create the model\n",
    "model = Model(inputs=inputs, outputs=outputs)\n",
    "\n",
    "# Compile the model\n",
    "model.compile(optimizer='adam', loss='binary_crossentropy', metrics=['accuracy'])\n"
   ]
  },
  {
   "cell_type": "code",
   "execution_count": 47,
   "id": "ad656203-0d04-46e1-9adf-a0d02e5919e8",
   "metadata": {},
   "outputs": [],
   "source": [
    "model.save(\"faverev.h5\")"
   ]
  },
  {
   "cell_type": "code",
   "execution_count": 98,
   "id": "9712d5f4-a9cb-4de1-8dca-288115b2681d",
   "metadata": {},
   "outputs": [],
   "source": [
    "# Define the input layer\n",
    "from tensorflow.keras.layers import Input, Embedding, Conv1D, MaxPooling1D, Bidirectional, LSTM, Dense, Dropout\n",
    "from tensorflow.keras.models import Model\n",
    "input_layer = Input(shape=(max_sequence_length,))\n",
    "\n",
    "# Embedding layer\n",
    "x = Embedding(input_dim=10000, output_dim=128, input_length=max_sequence_length)(input_layer)\n",
    "\n",
    "# Convolutional and pooling layers\n",
    "x = Conv1D(filters=128, kernel_size=5, activation='relu')(x)\n",
    "x = MaxPooling1D(pool_size=2)(x)\n",
    "\n",
    "# Bidirectional LSTM layer\n",
    "#x = Bidirectional(LSTM(64))(x)\n",
    "\n",
    "# Dense and Dropout layers\n",
    "x = Dense(64, activation='relu')(x)\n",
    "x = Dropout(0.5)(x)\n",
    "\n",
    "# Output layer\n",
    "output_layer = Dense(1, activation='sigmoid')(x)"
   ]
  },
  {
   "cell_type": "code",
   "execution_count": 76,
   "id": "2a653a5d-d066-41b4-915a-96f24087844f",
   "metadata": {},
   "outputs": [],
   "source": [
    "model.save(\"fakerevs.h5\")"
   ]
  },
  {
   "cell_type": "code",
   "execution_count": 53,
   "id": "cae7050c-6ab6-4aa3-a09f-978f24798c0d",
   "metadata": {},
   "outputs": [],
   "source": [
    "# Rebuild the model if needed (or load it)\n",
    "model = Sequential([\n",
    "    Embedding(input_dim=10000, output_dim=128, input_length=max_sequence_length),\n",
    "    Conv1D(filters=128, kernel_size=5, activation='relu'),\n",
    "    MaxPooling1D(pool_size=2),\n",
    "    Bidirectional(LSTM(64)),\n",
    "    Dense(64, activation='relu'),\n",
    "    Dropout(0.5),\n",
    "    Dense(1, activation='sigmoid')\n",
    "])"
   ]
  },
  {
   "cell_type": "code",
   "execution_count": 54,
   "id": "9c8fda0b-ebec-432c-b244-542fd7b03919",
   "metadata": {},
   "outputs": [],
   "source": [
    "model.compile(optimizer='adam', loss='binary_crossentropy', metrics=['accuracy'])\n"
   ]
  },
  {
   "cell_type": "code",
   "execution_count": 55,
   "id": "12c98f5e-b28f-447c-bb44-a515cdd47a14",
   "metadata": {},
   "outputs": [
    {
     "name": "stdout",
     "output_type": "stream",
     "text": [
      "Epoch 1/15\n",
      "1011/1011 [==============================] - 18s 15ms/step - loss: 0.2595 - accuracy: 0.8890 - val_loss: 0.2347 - val_accuracy: 0.9091\n",
      "Epoch 2/15\n",
      "1011/1011 [==============================] - 16s 16ms/step - loss: 0.1395 - accuracy: 0.9471 - val_loss: 0.2113 - val_accuracy: 0.9157\n",
      "Epoch 3/15\n",
      "1011/1011 [==============================] - 17s 17ms/step - loss: 0.0793 - accuracy: 0.9715 - val_loss: 0.2488 - val_accuracy: 0.9269\n",
      "Epoch 4/15\n",
      "1011/1011 [==============================] - 17s 16ms/step - loss: 0.0435 - accuracy: 0.9847 - val_loss: 0.3082 - val_accuracy: 0.9223\n",
      "Epoch 5/15\n",
      "1011/1011 [==============================] - 17s 16ms/step - loss: 0.0315 - accuracy: 0.9892 - val_loss: 0.3113 - val_accuracy: 0.9230\n",
      "Epoch 6/15\n",
      "1011/1011 [==============================] - 17s 17ms/step - loss: 0.0169 - accuracy: 0.9939 - val_loss: 0.4616 - val_accuracy: 0.9111\n",
      "\n",
      "Stopping training as training accuracy reached 0.99\n"
     ]
    },
    {
     "data": {
      "text/plain": [
       "<keras.callbacks.History at 0x2825206ed60>"
      ]
     },
     "execution_count": 55,
     "metadata": {},
     "output_type": "execute_result"
    }
   ],
   "source": [
    "model.fit(X_train, y_train, epochs=15, batch_size=32, validation_data=(X_test, y_test),callbacks=[stop_on_accuracy])"
   ]
  },
  {
   "cell_type": "code",
   "execution_count": 56,
   "id": "2b708e6f-7b41-4260-a8da-f325f6e5c031",
   "metadata": {},
   "outputs": [],
   "source": [
    "model.save(\"fakerev.h5\")"
   ]
  },
  {
   "cell_type": "code",
   "execution_count": 57,
   "id": "c8232344-3e23-4954-8c0e-f8f0529881e1",
   "metadata": {},
   "outputs": [],
   "source": [
    "import numpy as np\n",
    "\n",
    "# Save the model's weights\n",
    "weights = model.get_weights()\n",
    "\n",
    "# Convert weights to a binary format\n",
    "with open('faker.bin', 'wb') as f:\n",
    "    for w in weights:\n",
    "        np.save(f, w)\n"
   ]
  },
  {
   "cell_type": "code",
   "execution_count": 58,
   "id": "0c1c2be9-332a-4288-81b2-ae211df0978c",
   "metadata": {},
   "outputs": [],
   "source": [
    "import numpy as np\n",
    "\n",
    "# Load the weights from the binary file\n",
    "loaded_weights = []\n",
    "with open('faker.bin', 'rb') as f:\n",
    "    for _ in range(len(model.get_weights())):\n",
    "        loaded_weights.append(np.load(f))\n",
    "\n",
    "# Set the loaded weights back into the model\n",
    "model.set_weights(loaded_weights)\n"
   ]
  },
  {
   "cell_type": "code",
   "execution_count": 61,
   "id": "887333a8-8b1d-496e-9dfe-3833a5989b35",
   "metadata": {},
   "outputs": [
    {
     "name": "stdout",
     "output_type": "stream",
     "text": [
      "2.6.0\n"
     ]
    }
   ],
   "source": [
    "print(tf.__version__)"
   ]
  },
  {
   "cell_type": "code",
   "execution_count": 23,
   "id": "9c0ef703-3905-442e-aa68-dd05a93b6b8d",
   "metadata": {},
   "outputs": [],
   "source": [
    "model=load_model('fakerev.h5')"
   ]
  },
  {
   "cell_type": "code",
   "execution_count": 5,
   "id": "23a6d7a4-74ef-436a-ac12-2f4f9b0b4d1f",
   "metadata": {},
   "outputs": [],
   "source": [
    "text=\"well receiv comfort gave gift dialysi patient\""
   ]
  },
  {
   "cell_type": "code",
   "execution_count": 11,
   "id": "16710b59-6713-4361-80ce-8748d4ba962a",
   "metadata": {},
   "outputs": [],
   "source": [
    "def clean_stopwords(text):\n",
    "    stopwordlist = ['a', 'about', 'above', 'after', 'again', 'ain', 'all', 'am', 'an',\n",
    "                    'and', 'any', 'are', 'as', 'at', 'be', 'because', 'been', 'before',\n",
    "                    'being', 'below', 'between', 'both', 'by', 'can', 'd', 'did', 'do',\n",
    "                    'does', 'doing', 'down', 'during', 'each', 'few', 'for', 'from',\n",
    "                    'further', 'had', 'has', 'have', 'having', 'he', 'her', 'here',\n",
    "                    'hers', 'herself', 'him', 'himself', 'his', 'how', 'i', 'if', 'in',\n",
    "                    'into', 'is', 'it', 'its', 'itself', 'just', 'll', 'm', 'ma',\n",
    "                    'me', 'more', 'most', 'my', 'myself', 'now', 'o', 'of', 'on', 'once',\n",
    "                    'only', 'or', 'other', 'our', 'ours', 'ourselves', 'out', 'own', 're',\n",
    "                    's', 'same', 'she', \"shes\", 'should', \"shouldve\", 'so', 'some', 'such',\n",
    "                    't', 'than', 'that', \"thatll\", 'the', 'their', 'theirs', 'them',\n",
    "                    'themselves', 'then', 'there', 'these', 'they', 'this', 'those',\n",
    "                    'through', 'to', 'too', 'under', 'until', 'up', 've', 'very', 'was',\n",
    "                    'we', 'were', 'what', 'when', 'where', 'which', 'while', 'who', 'whom',\n",
    "                    'why', 'will', 'with', 'won', 'y', 'you', \"youd\", \"youll\", \"youre\",\n",
    "                    \"youve\", 'your', 'yours', 'yourself', 'yourselves']\n",
    "    STOPWORDS = set(stopwordlist)\n",
    "    return \" \".join([word for word in str(text).split() if word not in STOPWORDS])\n",
    "\n",
    "def clean_punctuations(text):\n",
    "    translator = str.maketrans('', '', string.punctuation)\n",
    "    return text.translate(translator)\n",
    "\n",
    "def clean_repeating_characters(text):\n",
    "    return re.sub(r'(.)\\1+', r'\\1', text)\n",
    "\n",
    "def clean_URLs(text):\n",
    "    return re.sub(r\"((www\\.[^\\s]+)|(http\\S+))\", \"\", text)\n",
    "\n",
    "def clean_numeric(text):\n",
    "    return re.sub('[0-9]+', '', text)"
   ]
  },
  {
   "cell_type": "code",
   "execution_count": 18,
   "id": "f325baa2-a5a2-4df8-b2f8-ad554bbc5ac0",
   "metadata": {},
   "outputs": [],
   "source": [
    "text = text.lower()\n",
    "text = clean_stopwords(text)\n",
    "# text = clean_punctuations(text)\n",
    "text = clean_repeating_characters(text)\n",
    "text = clean_URLs(text)\n",
    "text = clean_numeric(text)\n",
    "sequences = tokenizer.texts_to_sequences([text])"
   ]
  },
  {
   "cell_type": "code",
   "execution_count": 19,
   "id": "6b6892d0-5af0-4bac-a21c-99b87e5d4593",
   "metadata": {},
   "outputs": [],
   "source": [
    "tokenizer = Tokenizer(num_words=10000)  \n",
    "tokenizer.fit_on_texts(text)\n",
    "sequences = tokenizer.texts_to_sequences(text)"
   ]
  },
  {
   "cell_type": "code",
   "execution_count": 20,
   "id": "dd35b759-2756-4cac-8b08-a37d12b3fb99",
   "metadata": {},
   "outputs": [],
   "source": [
    "max_sequence_length = 200  #\n",
    "padded_sequences = pad_sequences(sequences, maxlen=max_sequence_length)"
   ]
  },
  {
   "cell_type": "code",
   "execution_count": 21,
   "id": "8eccd853-4ba7-4192-8a06-88c4e3dba646",
   "metadata": {},
   "outputs": [
    {
     "data": {
      "text/plain": [
       "'wel receiv comfort gave gift dialysi patient'"
      ]
     },
     "execution_count": 21,
     "metadata": {},
     "output_type": "execute_result"
    }
   ],
   "source": [
    "classify={1:\"Computer Genarated\",0:\"Original Resource\"}\n",
    "text"
   ]
  },
  {
   "cell_type": "code",
   "execution_count": 24,
   "id": "50d7a6e3-9814-4a4a-823c-c79a6eae9e87",
   "metadata": {},
   "outputs": [
    {
     "name": "stdout",
     "output_type": "stream",
     "text": [
      "2/2 [==============================] - 3s 33ms/step\n",
      "Predicted class: Original Resource\n"
     ]
    },
    {
     "data": {
      "text/plain": [
       "array([[0.7348745 ],\n",
       "       [0.74785995],\n",
       "       [0.751805  ],\n",
       "       [0.76074433],\n",
       "       [0.75550544],\n",
       "       [0.74785995],\n",
       "       [0.7579335 ],\n",
       "       [0.74785995],\n",
       "       [0.74892724],\n",
       "       [0.7611296 ],\n",
       "       [0.76074433],\n",
       "       [0.7579335 ],\n",
       "       [0.73555   ],\n",
       "       [0.75698996],\n",
       "       [0.7603529 ],\n",
       "       [0.73555   ],\n",
       "       [0.75550544],\n",
       "       [0.76001155],\n",
       "       [0.76074433],\n",
       "       [0.7177834 ],\n",
       "       [0.76193124],\n",
       "       [0.7611296 ],\n",
       "       [0.74785995],\n",
       "       [0.76074433],\n",
       "       [0.7177834 ],\n",
       "       [0.74892724],\n",
       "       [0.7603529 ],\n",
       "       [0.76001155],\n",
       "       [0.76074433],\n",
       "       [0.7563053 ],\n",
       "       [0.74892724],\n",
       "       [0.76193124],\n",
       "       [0.751805  ],\n",
       "       [0.74208796],\n",
       "       [0.7372752 ],\n",
       "       [0.74892724],\n",
       "       [0.76074433],\n",
       "       [0.76477313],\n",
       "       [0.76193124],\n",
       "       [0.76001155],\n",
       "       [0.74892724],\n",
       "       [0.74785995],\n",
       "       [0.74360526],\n",
       "       [0.76001155]], dtype=float32)"
      ]
     },
     "execution_count": 24,
     "metadata": {},
     "output_type": "execute_result"
    }
   ],
   "source": [
    "prediction = model.predict(padded_sequences)\n",
    "predicted_class = (prediction > 0.76).astype(int)\n",
    "print(f\"Predicted class: {classify[predicted_class[0][0]]}\")\n",
    "prediction"
   ]
  },
  {
   "cell_type": "code",
   "execution_count": null,
   "id": "526b7bd5-43e3-4b13-a006-cd47feca5d8c",
   "metadata": {},
   "outputs": [],
   "source": []
  },
  {
   "cell_type": "code",
   "execution_count": null,
   "id": "b63b9a2e-187c-426f-adec-ae813d9a8432",
   "metadata": {},
   "outputs": [],
   "source": []
  },
  {
   "cell_type": "code",
   "execution_count": null,
   "id": "534b404d-3cb7-4817-9290-76593a2b3b98",
   "metadata": {},
   "outputs": [],
   "source": []
  }
 ],
 "metadata": {
  "kernelspec": {
   "display_name": "Python 3 (ipykernel)",
   "language": "python",
   "name": "python3"
  },
  "language_info": {
   "codemirror_mode": {
    "name": "ipython",
    "version": 3
   },
   "file_extension": ".py",
   "mimetype": "text/x-python",
   "name": "python",
   "nbconvert_exporter": "python",
   "pygments_lexer": "ipython3",
   "version": "3.9.18"
  }
 },
 "nbformat": 4,
 "nbformat_minor": 5
}
